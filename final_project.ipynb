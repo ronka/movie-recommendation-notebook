{
 "cells": [
  {
   "cell_type": "code",
   "execution_count": 1,
   "outputs": [],
   "source": [
    "import pandas as pd\n",
    "import numpy as np\n",
    "import seaborn as sns\n",
    "import matplotlib.pyplot as plt\n",
    "import datetime\n",
    "from datetime import datetime\n",
    "import ast \n",
    "\n",
    "from sklearn.model_selection import train_test_split\n",
    "from sklearn.ensemble import RandomForestClassifier\n",
    "from sklearn.linear_model import LogisticRegression\n",
    "from sklearn.neural_network import MLPClassifier\n",
    "from sklearn.metrics import f1_score, accuracy_score, roc_auc_score,precision_score"
   ],
   "metadata": {
    "collapsed": false,
    "pycharm": {
     "name": "#%%\n",
     "is_executing": false
    }
   }
  },
  {
   "cell_type": "markdown",
   "source": [
    "# Movie Recommendation Project\n",
    "\n",
    "In this project we will try to predict which movie should be your next movie.\n",
    "\n",
    "At first, as a POC we will build a recommendation system that is content based filtering, the system will offer generalized recommendations to every user based on the popularity, the genres and the movie's runtime. The basic idea behind this system is that movies that are more popular and critically acclaimed will have a higher probability of being liked by the average audience.\n",
    "\n",
    "Later on, we will try to extend the algorithm with adding demographic filtering based models. Giving a user a more specific recommendation based on his rating on other movies and taking into consideration the popularity of a certian genres in the year he is watching.\n",
    " \n",
    "Some interesting analysis we are hoping to come a cross while working on this:\n",
    "\n",
    "- Genre popularity based on the year, we can tell by that if there was a major event that may cause a specific genre to be more popular\n",
    "- What is the perfect runtime? is there such a thing?\n",
    "- What year is the best year to release movie?\n",
    "- Are people consistently watching the same genre films? e.g. People who watch war, crime and thriller films likely to watch only those genres\n",
    "\n",
    "_Because of low-quality data on old movies, we will **not** ignore movies that were released after the year of watching parameter._\n",
    "\n",
    "## Let's look at our data"
   ],
   "metadata": {
    "collapsed": false
   }
  },
  {
   "cell_type": "code",
   "execution_count": 2,
   "outputs": [
    {
     "name": "stderr",
     "text": [
      "/Users/culturetripisrael/anaconda3/envs/movie-recommendation-notebook/lib/python3.7/site-packages/IPython/core/interactiveshell.py:3063: DtypeWarning: Columns (10) have mixed types.Specify dtype option on import or set low_memory=False.\n",
      "  interactivity=interactivity, compiler=compiler, result=result)\n"
     ],
     "output_type": "stream"
    }
   ],
   "source": [
    "# movies_raw_df = pd.read_csv('https://www.dropbox.com/s/j9vxjw3g1s7wqsg/movies_metadata.csv?dl=1')\n",
    "# rating_raw_df = pd.read_csv('https://www.dropbox.com/s/tizyp5zreilielv/ratings.csv?dl=1')\n",
    "\n",
    "movies_raw_df = pd.read_csv('movies.csv')\n",
    "ratings_raw_df = pd.read_csv('ratings.csv')"
   ],
   "metadata": {
    "collapsed": false,
    "pycharm": {
     "name": "#%%\n",
     "is_executing": false
    }
   }
  },
  {
   "cell_type": "markdown",
   "source": [
    "#### MovieLens's Movies Dataset Features:\n",
    "\n",
    "- adult - Is it an adult film\n",
    "- budget - How much money was invested\n",
    "- genres - Genres the movie classified to(JSON format)\n",
    "- imdb_id - IMDb's ID\n",
    "- overview - Description of the movie\n",
    "- popularity - A numeric quantity specifying the movie popularity\n",
    "- production_companies - The production house of the movie.\n",
    "- production_countries - The country in which it was produced.\n",
    "- release_date - The date of the movie release\n",
    "- revenue - How much revenue the movie generated worldwide\n",
    "- runtime - How long is the movie in minutes\n",
    "- tagline - Movie's tagline\n",
    "- title - Title of the movie\n",
    "- vote_average - average ratings the movie recieved.\n",
    "- vote_count - the count of votes recieved.\n",
    "\n",
    "#### Rating Dataset Features:\n",
    "\n",
    "- userId - A unique value for each user\n",
    "- movieId - A unique movie id in MovieLens\n",
    "- rating - The user rating for that movie\n",
    "- timestamp - The time the movie was rated\n",
    "\n",
    "## Taking A Look At Our Movies Dataset\n",
    "\n",
    "#### Cleaning MovieLens's Movies Dataset"
   ],
   "metadata": {
    "collapsed": false,
    "pycharm": {
     "name": "#%% md\n"
    }
   }
  },
  {
   "cell_type": "code",
   "execution_count": null,
   "outputs": [],
   "source": [
    "movies_df = movies_raw_df.copy()\n",
    "\n",
    "# After inspections in df we found duplicated rows so we'll drop the to keep unique values\n",
    "movies_df.drop_duplicates(['id'],inplace=True)\n",
    "\n",
    "# create a new column with the release year\n",
    "movies_df['release_year'] = pd.to_datetime(movies_df['release_date'],errors='coerce').dt.year.fillna(0)\n",
    "movies_df = movies_df[ movies_df['release_date'] != 0 ]\n",
    "\n",
    "# clearing popularity column\n",
    "movies_df['popularity'] = pd.to_numeric(movies_df['popularity'],errors='coerce')\n",
    "movies_df = movies_df[ movies_df['popularity'] != 0 ]\n",
    "\n",
    "# Remove unreleased films\n",
    "movies_df = movies_df[ movies_df['status'] == 'Released' ]\n",
    "\n",
    "# Genres are stored as JSONs in our dataset, lets convert to it to hot-one format\n",
    "for index, row in movies_df.iterrows():\n",
    "    # extract genres\n",
    "    movies_genres = ast.literal_eval(row['genres'])\n",
    "    for genre in movies_genres:\n",
    "        # if genre is not a column, generate the column and set all to 0\n",
    "        if genre['name'] not in movies_df:\n",
    "            movies_df[ genre['name'] ] = 0\n",
    "        movies_df.at[index, genre['name']] = 1\n",
    "\n",
    "# removing unnecessary columns\n",
    "movies_df.drop(['imdb_id','homepage','adult','belongs_to_collection','production_countries','overview','tagline',\n",
    "                'video', 'genres','poster_path', 'spoken_languages','status'],inplace=True,axis=1)\n",
    "    "
   ],
   "metadata": {
    "collapsed": false,
    "pycharm": {
     "name": "#%%\n",
     "is_executing": true
    }
   }
  },
  {
   "cell_type": "markdown",
   "source": [
    "#### Genres"
   ],
   "metadata": {
    "collapsed": false
   }
  },
  {
   "cell_type": "code",
   "execution_count": 51,
   "outputs": [
    {
     "data": {
      "text/plain": "1912"
     },
     "metadata": {},
     "output_type": "execute_result",
     "execution_count": 51
    }
   ],
   "source": [
    "# Get a feeling of the movies and their release year\n",
    "f, axes = plt.subplots(figsize=(20, 7))\n",
    "sns.distplot(movies_df['release_year'], ax=axes, kde=False)\n",
    "plt.xlabel('Year of release')\n",
    "plt.ylabel('Movies released')\n",
    "plt.title('Count movies released in each year')\n",
    "plt.show()"
   ],
   "metadata": {
    "collapsed": false,
    "pycharm": {
     "name": "#%%\n",
     "is_executing": false
    }
   }
  }
 ],
 "metadata": {
  "kernelspec": {
   "display_name": "Python 3",
   "language": "python",
   "name": "python3"
  },
  "language_info": {
   "codemirror_mode": {
    "name": "ipython",
    "version": 2
   },
   "file_extension": ".py",
   "mimetype": "text/x-python",
   "name": "python",
   "nbconvert_exporter": "python",
   "pygments_lexer": "ipython2",
   "version": "2.7.6"
  },
  "pycharm": {
   "stem_cell": {
    "cell_type": "raw",
    "source": [],
    "metadata": {
     "collapsed": false
    }
   }
  }
 },
 "nbformat": 4,
 "nbformat_minor": 0
}