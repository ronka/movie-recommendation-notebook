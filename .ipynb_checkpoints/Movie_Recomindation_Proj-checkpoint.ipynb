{
 "cells": [
  {
   "cell_type": "markdown",
   "metadata": {
    "colab_type": "text",
    "id": "mpjEkrIEnr8F"
   },
   "source": [
    "# Movie Recommendation Project - Through Correlations With Liked Films And The Year Watching\n",
    "In this project we will try to predict which movie should be your next movie, what makes our algorithm more interesting is that it takes into consideration the year you're are watching the movie as movie genres popularity is varying depending on the year.\n",
    "\n",
    "Because of low-quality data on old movies, we will **not** ignore movies that were released after the year of watching parameter.\n",
    "\n",
    "## Project outline\n",
    "\n",
    "In order to achieve our goal we will be looking into to 2 datasets. IMDb's list of movies and MovieLens users rating.\n",
    "\n",
    "- Analyzing IMDb's movies dataset to determine which movie genres are popular based on the year\n",
    "- Analyzing MovieLens user rating dataset\n",
    "- Determining which movie to recommened based on user rating alone\n",
    "- Interfacing with the data analysis we did on the popularity of genres"
   ]
  },
  {
   "cell_type": "code",
   "execution_count": 0,
   "metadata": {
    "colab": {
     "base_uri": "https://localhost:8080/",
     "height": 51
    },
    "colab_type": "code",
    "id": "w1q7fOSnJ5kN",
    "outputId": "d0550dfa-e2f5-451c-eafd-39f684241173"
   },
   "outputs": [
    {
     "name": "stderr",
     "output_type": "stream",
     "text": [
      "/usr/local/lib/python3.6/dist-packages/statsmodels/tools/_testing.py:19: FutureWarning: pandas.util.testing is deprecated. Use the functions in the public API at pandas.testing instead.\n",
      "  import pandas.util.testing as tm\n"
     ]
    }
   ],
   "source": [
    "import pandas as pd\n",
    "import numpy as np\n",
    "import seaborn as sns\n",
    "import matplotlib.pyplot as plt\n",
    "from scipy import *\n",
    "import datetime\n",
    "from google.colab import files\n",
    "from datetime import datetime\n",
    "from dateutil.parser import parse\n",
    "\n",
    "# Code to read csv file into Colaboratory:\n",
    "!pip install -U -q PyDrive\n",
    "from pydrive.auth import GoogleAuth\n",
    "from pydrive.drive import GoogleDrive\n",
    "from google.colab import auth\n",
    "from oauth2client.client import GoogleCredentials\n",
    "\n",
    "# Authenticate and create the PyDrive client.\n",
    "auth.authenticate_user()\n",
    "gauth = GoogleAuth()\n",
    "gauth.credentials = GoogleCredentials.get_application_default()\n",
    "drive = GoogleDrive(gauth)\n",
    "\n"
   ]
  },
  {
   "cell_type": "markdown",
   "metadata": {
    "colab_type": "text",
    "id": "1TMAoqg7i3q0"
   },
   "source": [
    "# IMDb"
   ]
  },
  {
   "cell_type": "code",
   "execution_count": 0,
   "metadata": {
    "colab": {},
    "colab_type": "code",
    "id": "A0iRjcPpfiql"
   },
   "outputs": [],
   "source": [
    "# loading imdb\n",
    "imdb_link = 'https://drive.google.com/open?id=1u3dzWhu_fMLRQTs-JjihlzGKxlQl1z0k' # shareable link from google drive\n",
    "fluff, id = imdb_link.split('=')\n",
    "imdb_file = drive.CreateFile({'id':id}) \n",
    "imdb_file.GetContentFile('imdb.csv')  \n",
    "imdb_df = pd.read_csv('imdb.csv',error_bad_lines=False,warn_bad_lines=False)"
   ]
  },
  {
   "cell_type": "code",
   "execution_count": 0,
   "metadata": {
    "colab": {
     "base_uri": "https://localhost:8080/",
     "height": 459
    },
    "colab_type": "code",
    "id": "8tr25UQU7O4O",
    "outputId": "7a53729d-8ba6-48db-d174-f17758e7005a"
   },
   "outputs": [
    {
     "name": "stdout",
     "output_type": "stream",
     "text": [
      "our relevant years are bewteen 1923 to 2013\n"
     ]
    },
    {
     "data": {
      "image/png": "[encoded data removed]",
      "text/plain": [
       "<Figure size 1440x504 with 1 Axes>"
      ]
     },
     "metadata": {
      "needs_background": "light",
      "tags": []
     },
     "output_type": "display_data"
    }
   ],
   "source": [
    "# taking a look at anomlies, years where there is low number of movies\n",
    "# finding the longest sequance of years with movie count higher then 10\n",
    "groupby_year = imdb_df.groupby('year').size().reset_index(name='count').sort_values(['year'])\n",
    "groupby_year['count'] = groupby_year['count'].apply(lambda x: x < 10)\n",
    "\n",
    "groupby_year.reset_index(inplace=True)\n",
    "\n",
    "groupby_year = groupby_year.groupby(groupby_year['count'].cumsum()).agg(\n",
    "    {'year':['count', 'min', 'max']})\n",
    "\n",
    "groupby_year.columns = groupby_year.columns.droplevel()\n",
    "\n",
    "years_limit = groupby_year[groupby_year['count']==groupby_year['count'].max()]\n",
    "print('our relevant years are bewteen {} to {}'.format(\n",
    "    int(years_limit['min'].values),int(years_limit['max'].values))\n",
    ")\n",
    "\n",
    "# clean movies out of limit\n",
    "imdb_df = imdb_df[(imdb_df['year'] > int(years_limit['min'].values)) & (imdb_df['year'] < int(years_limit['max'].values))]\n",
    "\n",
    "f, axes = plt.subplots(figsize=(20, 7))\n",
    "\n",
    "# Get a feeling of number of movies per year > 10\n",
    "sns.distplot(imdb_df['year'], ax=axes, kde=False)\n",
    "plt.show()"
   ]
  },
  {
   "cell_type": "markdown",
   "metadata": {
    "colab_type": "text",
    "id": "VcJlHZofjFX9"
   },
   "source": [
    "# -----------------------------------"
   ]
  },
  {
   "cell_type": "markdown",
   "metadata": {
    "colab_type": "text",
    "id": "RjQT1hcoi8Cd"
   },
   "source": [
    "# MovieLens"
   ]
  },
  {
   "cell_type": "code",
   "execution_count": 0,
   "metadata": {
    "colab": {
     "base_uri": "https://localhost:8080/",
     "height": 51
    },
    "colab_type": "code",
    "id": "d5vriCp375s0",
    "outputId": "791a4934-2251-45c0-8fdd-8f7c66de92e6"
   },
   "outputs": [
    {
     "name": "stderr",
     "output_type": "stream",
     "text": [
      "/usr/local/lib/python3.6/dist-packages/IPython/core/interactiveshell.py:2718: DtypeWarning: Columns (10) have mixed types.Specify dtype option on import or set low_memory=False.\n",
      "  interactivity=interactivity, compiler=compiler, result=result)\n"
     ]
    }
   ],
   "source": [
    "# loading movies meta data\n",
    "movies_metadata_link = 'https://drive.google.com/open?id=1gySiKyZsc0-wcbQLnkpGfYxDwCHbEsgk' # shareable link from google drive\n",
    "fluff, id = movies_metadata_link.split('=')\n",
    "downloaded = drive.CreateFile({'id':id}) \n",
    "downloaded.GetContentFile('movies_metadata.csv')  \n",
    "meta_mov_df = pd.read_csv('movies_metadata.csv')\n",
    "\n",
    "#loading movies ratings\n",
    "rating_link = 'https://drive.google.com/open?id=1ZsXtzQDG8vca5Z80dV8FtJfKmAiYtT5v' # shareable link from google drive\n",
    "rating_fluff, id = rating_link.split('=')\n",
    "rating_downloaded = drive.CreateFile({'id':id}) \n",
    "rating_downloaded.GetContentFile('ratings.csv')  \n",
    "rating_df = pd.read_csv('ratings.csv')\n",
    "sub_sample_size = int(len(rating_df)/10)\n",
    "rating_df_sample = rating_df.sample(n=sub_sample_size, random_state=42)\n"
   ]
  },
  {
   "cell_type": "code",
   "execution_count": 0,
   "metadata": {
    "colab": {
     "base_uri": "https://localhost:8080/",
     "height": 365
    },
    "colab_type": "code",
    "id": "7Nlei9aZFuix",
    "outputId": "3d201ce2-ecb9-4305-b71e-3ef760d4f051"
   },
   "outputs": [
    {
     "name": "stdout",
     "output_type": "stream",
     "text": [
      "<<<=== There are 45436 unique movies in our Data and (30) Duplications ===>>>\n",
      "\n",
      "\n",
      "<<<=== lets check out the movies rating years ===>>>\n"
     ]
    },
    {
     "data": {
      "text/plain": [
       "<matplotlib.axes._subplots.AxesSubplot at 0x7f084685ae48>"
      ]
     },
     "execution_count": 43,
     "metadata": {
      "tags": []
     },
     "output_type": "execute_result"
    },
    {
     "data": {
      "image/png": "[encoded data removed]",
      "text/plain": [
       "<Figure size 432x288 with 1 Axes>"
      ]
     },
     "metadata": {
      "needs_background": "light",
      "tags": []
     },
     "output_type": "display_data"
    }
   ],
   "source": [
    "# start to inspcet our data\n",
    "\n",
    "#moveis meta data\n",
    "duplications = len(meta_mov_df['id']) - len(meta_mov_df.drop_duplicates(['id']))\n",
    "print(\"<<<=== There are %s unique movies in our Data and (%s) Duplications ===>>>\" % (len(meta_mov_df['id'].unique()),duplications))\n",
    "print(\"\\n\")\n",
    "# After inspections in df we found duplicated rows so we'll drop the to keep unique values\n",
    "meta_mov_df.drop_duplicates(['id'])\n",
    "\n",
    "# rating_df inspection of rating \n",
    "rating_df_sample['date'] = rating_df_sample.apply(lambda x: str(datetime.fromtimestamp(x['timestamp']).strftime('%Y-%m-%d')),axis=1)\n",
    "rating_df_sample['rate_year'] = rating_df_sample.apply(lambda x: parse(x['date']).year,axis=1)\n",
    "\n",
    "# dist of year\n",
    "print('<<<=== lets check out the movies rating years ===>>>')\n",
    "sns.distplot(rating_df_sample['rate_year'] )\n",
    "\n"
   ]
  },
  {
   "cell_type": "code",
   "execution_count": 0,
   "metadata": {
    "colab": {
     "base_uri": "https://localhost:8080/",
     "height": 282
    },
    "colab_type": "code",
    "id": "PjYTylorSI2a",
    "outputId": "c70f19ac-2a5c-4afe-adee-41a2528fa239"
   },
   "outputs": [
    {
     "data": {
      "text/plain": [
       "<matplotlib.axes._subplots.AxesSubplot at 0x7f084744a518>"
      ]
     },
     "execution_count": 44,
     "metadata": {
      "tags": []
     },
     "output_type": "execute_result"
    },
    {
     "data": {
      "image/png": "[encoded data removed]",
      "text/plain": [
       "<Figure size 432x288 with 1 Axes>"
      ]
     },
     "metadata": {
      "needs_background": "light",
      "tags": []
     },
     "output_type": "display_data"
    }
   ],
   "source": [
    "# calulate ratings means distributions\n",
    "ratings_mean = rating_df_sample.groupby(by=['movieId'])['rating'].mean()\n",
    "sns.kdeplot(ratings_mean,shade=True)\n",
    "\n",
    "\n"
   ]
  },
  {
   "cell_type": "code",
   "execution_count": 0,
   "metadata": {
    "colab": {
     "base_uri": "https://localhost:8080/",
     "height": 265
    },
    "colab_type": "code",
    "id": "LF_wKDFDLx3J",
    "outputId": "b6efa130-e435-4b8b-90e8-c954d6078a1d"
   },
   "outputs": [
    {
     "data": {
      "image/png": "[encoded data removed]",
      "text/plain": [
       "<Figure size 432x288 with 1 Axes>"
      ]
     },
     "metadata": {
      "needs_background": "light",
      "tags": []
     },
     "output_type": "display_data"
    }
   ],
   "source": [
    "\n",
    "# Now Lets get started to meet meta our Data\n",
    "meta_mov_df['popularity'] = pd.to_numeric(meta_mov_df['popularity'],errors='coerce')\n",
    "sns.kdeplot(meta_mov_df['popularity'], shade=True);\n",
    "\n"
   ]
  }
 ],
 "metadata": {
  "accelerator": "GPU",
  "colab": {
   "collapsed_sections": [],
   "machine_shape": "hm",
   "name": "Movie Recomindation Proj.ipynb",
   "provenance": []
  },
  "kernelspec": {
   "display_name": "Python 3",
   "language": "python",
   "name": "python3"
  },
  "language_info": {
   "codemirror_mode": {
    "name": "ipython",
    "version": 3
   },
   "file_extension": ".py",
   "mimetype": "text/x-python",
   "name": "python",
   "nbconvert_exporter": "python",
   "pygments_lexer": "ipython3",
   "version": "3.7.6"
  }
 },
 "nbformat": 4,
 "nbformat_minor": 1
}
